{
 "cells": [
  {
   "cell_type": "markdown",
   "metadata": {},
   "source": [
    "How our model behave with more constraints ? We evaluate the performances of different model at different number of constraint"
   ]
  },
  {
   "cell_type": "code",
   "execution_count": null,
   "metadata": {},
   "outputs": [],
   "source": [
    "import config\n",
    "from utils import print_verbose"
   ]
  },
  {
   "cell_type": "markdown",
   "metadata": {},
   "source": [
    "# Import"
   ]
  },
  {
   "cell_type": "code",
   "execution_count": null,
   "metadata": {},
   "outputs": [],
   "source": [
    "## Datasets import\n",
    "from pmlb import classification_dataset_names, fetch_data"
   ]
  },
  {
   "cell_type": "code",
   "execution_count": null,
   "metadata": {},
   "outputs": [],
   "source": [
    "# Constraint methods\n",
    "from constraint import random_indices, get_subselection, completion_constraint"
   ]
  },
  {
   "cell_type": "code",
   "execution_count": null,
   "metadata": {},
   "outputs": [],
   "source": [
    "# Kernels methods\n",
    "from kernels.features import produce_kernels, normalize_and_check_kernels"
   ]
  },
  {
   "cell_type": "code",
   "execution_count": null,
   "metadata": {},
   "outputs": [],
   "source": [
    "# Model imports\n",
    "## R Model of constrained clustering\n",
    "## Require to have R and have installed conclust library\n",
    "from rpy2.robjects.packages import importr\n",
    "import rpy2.robjects.numpy2ri\n",
    "rpy2.robjects.numpy2ri.activate()\n",
    "clusterR = importr('conclust')\n",
    "\n",
    "## Kmeans model\n",
    "from sklearn.cluster import KMeans\n",
    "\n",
    "## Our model\n",
    "from models.kernel_bayes_opt import kernel_bayes_clustering"
   ]
  },
  {
   "cell_type": "code",
   "execution_count": null,
   "metadata": {},
   "outputs": [],
   "source": [
    "# Evaluation methods\n",
    "from metrics import evalSplit"
   ]
  },
  {
   "cell_type": "code",
   "execution_count": null,
   "metadata": {},
   "outputs": [],
   "source": [
    "# For reproductibility\n",
    "import numpy as np\n",
    "np.random.seed(0)"
   ]
  },
  {
   "cell_type": "code",
   "execution_count": null,
   "metadata": {},
   "outputs": [],
   "source": [
    "# Save\n",
    "import pickle"
   ]
  },
  {
   "cell_type": "markdown",
   "metadata": {},
   "source": [
    "# Evolution computation"
   ]
  },
  {
   "cell_type": "markdown",
   "metadata": {},
   "source": [
    "## Define variables"
   ]
  },
  {
   "cell_type": "code",
   "execution_count": null,
   "metadata": {},
   "outputs": [],
   "source": [
    "testMode = False\n",
    "\n",
    "# Kernel to compute\n",
    "kernels_name = ['rbf', 'sigmoid', 'polynomial', \n",
    "                'laplacian', 'linear', 'cosine']\n",
    "\n",
    "# Force recomputation\n",
    "force = False\n",
    "\n",
    "# Kernels options -- Refer to kernels/features.py\n",
    "kernel_args = {\"normalize\": \"multiplicative\", \n",
    "               \"check_method\": \"trivial\", \n",
    "               \"clip\": True}\n",
    "\n",
    "# Explore percentage \n",
    "percentages = [0.01, 0.1, 0.5, 1, 2, 3, 4, 5, 10, 20, 30, 40, 50, 75, 100]\n",
    "\n",
    "# Selection dataset\n",
    "dname = np.random.choice(classification_dataset_names)"
   ]
  },
  {
   "cell_type": "markdown",
   "metadata": {},
   "source": [
    "## Read data"
   ]
  },
  {
   "cell_type": "code",
   "execution_count": null,
   "metadata": {},
   "outputs": [],
   "source": [
    "# Read data and put them in good format for sklearn\n",
    "data, labelvector = fetch_data(dname, return_X_y = True, local_cache_dir = config.datadir)\n",
    "data = data.astype('float64')\n",
    "\n",
    "labels, counts = np.unique(labelvector, return_counts = True)\n",
    "classes = len(labels)\n",
    "\n",
    "print('{} : {} points in {} classes'.format(dname, len(labelvector), len(labels)))"
   ]
  },
  {
   "cell_type": "markdown",
   "metadata": {},
   "source": [
    "## Computation constraint"
   ]
  },
  {
   "cell_type": "code",
   "execution_count": null,
   "metadata": {},
   "outputs": [],
   "source": [
    "## Ground truth constraints\n",
    "constraintGT = 2 * np.equal.outer(labelvector, labelvector) - 1\n",
    "np.fill_diagonal(constraintGT, 0)\n",
    "\n",
    "## Computes all indices and random shuffle\n",
    "indices = random_indices(train, int((len(train)-1)*len(train)/2))"
   ]
  },
  {
   "cell_type": "markdown",
   "metadata": {},
   "source": [
    "## Computation kernels"
   ]
  },
  {
   "cell_type": "code",
   "execution_count": null,
   "metadata": {},
   "outputs": [],
   "source": [
    "# Computes the kernels for the given data\n",
    "names, kernels = produce_kernels(dname, kernels_name, data, force = force, n_jobs = config.processor)\n",
    "names, kernels = normalize_and_check_kernels(names, kernels, classes, n_jobs = config.processor, **kernel_args)    "
   ]
  },
  {
   "cell_type": "code",
   "execution_count": null,
   "metadata": {},
   "outputs": [],
   "source": [
    "assert len(kernels) > 0, \"Kernels Default\""
   ]
  },
  {
   "cell_type": "markdown",
   "metadata": {},
   "source": [
    "## Evaluation"
   ]
  },
  {
   "cell_type": "code",
   "execution_count": null,
   "metadata": {},
   "outputs": [],
   "source": [
    "def evaluate(percentageConstraint, iteration = 10, verbose = False):\n",
    "    \"\"\"\n",
    "        Evaluate the clustering methods iteration times\n",
    "        with the given percentage of constraints\n",
    "    \"\"\"\n",
    "    # Iteration for confidence\n",
    "    constraintIt, trainIt = {}, {}\n",
    "    scoreIt, assignationIt = {}, {}\n",
    "    for fold in range(iteration):\n",
    "        # Split in train and test\n",
    "        ## Stratified split\n",
    "        train, test = [], []\n",
    "        for label, count in zip(labels, counts):\n",
    "            lentrain = int(0.5 * count)\n",
    "            index_label = np.argwhere(labelvector == label).flatten()\n",
    "            train.extend(np.random.choice(index_label, size = lentrain, replace = False).tolist())\n",
    "            test.extend([i for i in index_label if i not in train])\n",
    "\n",
    "            \n",
    "        # Compute constraints matrix\n",
    "        ## Number constraint\n",
    "        number_constraint = int((percentageConstraint*(len(train)-1)*len(train)/2.)/100.)\n",
    "        constraint = get_subselection(constraintGT, indices[:number_constraint])\n",
    "\n",
    "        ## Completion Constraint Matrix\n",
    "        if percentageConstraint < 100:\n",
    "            print_verbose(\"Completion Constraint\", verbose)\n",
    "            constraint = completion_constraint(constraint)\n",
    "\n",
    "        ## R Format constraints\n",
    "        must_link, cannot_link = np.argwhere(constraint > 0), np.argwhere(constraint < 0)\n",
    "        must_link, cannot_link = must_link + 1, cannot_link + 1 # +1 for R index\n",
    "\n",
    "        \n",
    "        # Computes model\n",
    "        score, assignation = {}, {}\n",
    "        ## R Models\n",
    "        name = \"ckmeans\"\n",
    "        print_verbose(name, verbose)\n",
    "        assignation[name] = np.array(clusterR.ckmeans(data.copy(), classes, must_link, cannot_link))\n",
    "        score[name] = evalSplit(assignation[name], labelvector, train)\n",
    "\n",
    "        name = \"lcvqe\"\n",
    "        print_verbose(name, verbose)\n",
    "        assignation[name] = np.array(clusterR.lcvqe(data.copy(), classes, must_link, cannot_link))\n",
    "        score[name] = evalSplit(assignation[name], labelvector, train)\n",
    "\n",
    "        name = \"mpckm\"\n",
    "        print_verbose(name, verbose)\n",
    "        assignation[name] = np.array(clusterR.mpckm(data.copy(), classes, must_link, cannot_link))\n",
    "        score[name] = evalSplit(assignation[name], labelvector, train)\n",
    "\n",
    "        ## Kmeans\n",
    "        name = \"kmeans\"\n",
    "        print_verbose(name, verbose)\n",
    "        assignation[name] = KMeans(classes).fit(data).labels_\n",
    "        score[name] = evalSplit(assignation[name], labelvector, train)\n",
    "\n",
    "        ## Our method\n",
    "        name = \"Bayesian Optimization\"\n",
    "        print_verbose(name, verbose)                                                                                                                                                           \n",
    "        assignation[name], assignation[name + \" Kckmeans\"] = kernel_bayes_clustering(kernels, classes, constraint, verbose = verbose)\n",
    "        score[name] = evalSplit(assignation[name], labelvector, train)\n",
    "        score[name + \" Kckmeans\"] = evalSplit(assignation[name + \" Kckmeans\"], labelvector, train)  \n",
    "        \n",
    "        \n",
    "        # Add results\n",
    "        constraintIt[fold], trainIt[fold] = constraint, train\n",
    "        scoreIt[fold], assignationIt[fold] = score, assignation\n",
    "    \n",
    "    \n",
    "    # Save results\n",
    "    info = {\"Name\": dname, \"N_Classes\": classes, \"Labels\": labelvector,\n",
    "            \"Constraint\": constraintIt, \"Train\": trainIt,  \"Score\": scoreIt, \"Assignation\": assignationIt}\n",
    "    pickle.dump(info, open(os.path.join(config.result, config.time, dname + \"_{}_evolution.pickle\".format(percentageConstraint)), 'wb'))\n",
    "    \n",
    "    return score"
   ]
  },
  {
   "cell_type": "code",
   "execution_count": null,
   "metadata": {},
   "outputs": [],
   "source": [
    "# Creates a folder for save results\n",
    "import os\n",
    "os.mkdir(os.path.join(config.result, config.time))"
   ]
  },
  {
   "cell_type": "code",
   "execution_count": null,
   "metadata": {},
   "outputs": [],
   "source": [
    "if testMode:\n",
    "    for percentage in percentages:\n",
    "        evaluate(percentage, verbose = 2)\n",
    "else:\n",
    "    from multiprocessing import Pool\n",
    "    with Pool(config.processor) as pool:\n",
    "        pool.starmap(evaluate, [(percentage, ) for percentage in percentages])"
   ]
  },
  {
   "cell_type": "code",
   "execution_count": null,
   "metadata": {},
   "outputs": [],
   "source": []
  }
 ],
 "metadata": {
  "kernelspec": {
   "display_name": "Python 3",
   "language": "python",
   "name": "python3"
  },
  "language_info": {
   "codemirror_mode": {
    "name": "ipython",
    "version": 3
   },
   "file_extension": ".py",
   "mimetype": "text/x-python",
   "name": "python",
   "nbconvert_exporter": "python",
   "pygments_lexer": "ipython3"
  }
 },
 "nbformat": 4,
 "nbformat_minor": 2
}
