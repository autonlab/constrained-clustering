{
 "cells": [
  {
   "cell_type": "markdown",
   "metadata": {},
   "source": [
    "This notebook allows to compute different clustering algorithms on the pmlb datasets"
   ]
  },
  {
   "cell_type": "markdown",
   "metadata": {},
   "source": [
    "All path configuration and number of processor to use are in `config.py`"
   ]
  },
  {
   "cell_type": "code",
   "execution_count": null,
   "metadata": {},
   "outputs": [],
   "source": [
    "import config\n",
    "from utils import print_verbose"
   ]
  },
  {
   "cell_type": "markdown",
   "metadata": {},
   "source": [
    "# Import"
   ]
  },
  {
   "cell_type": "code",
   "execution_count": null,
   "metadata": {},
   "outputs": [],
   "source": [
    "# Configuration computation\n",
    "from fold import createFold, readFold"
   ]
  },
  {
   "cell_type": "code",
   "execution_count": null,
   "metadata": {},
   "outputs": [],
   "source": [
    "# Datasets import\n",
    "from pmlb import classification_dataset_names, fetch_data"
   ]
  },
  {
   "cell_type": "code",
   "execution_count": null,
   "metadata": {},
   "outputs": [],
   "source": [
    "# Constraint methods\n",
    "from constraint import random_indices, get_subselection, completion_constraint"
   ]
  },
  {
   "cell_type": "code",
   "execution_count": null,
   "metadata": {},
   "outputs": [],
   "source": [
    "# Kernels methods\n",
    "from kernels.features import produce_kernels, normalize_and_check_kernels\n",
    "from sklearn.metrics.pairwise import rbf_kernel\n",
    "from sklearn.metrics.pairwise import euclidean_distances"
   ]
  },
  {
   "cell_type": "code",
   "execution_count": null,
   "metadata": {},
   "outputs": [],
   "source": [
    "# Model imports\n",
    "## R Model of constrained clustering\n",
    "## Require to have R and have installed conclust library\n",
    "from rpy2.robjects.packages import importr\n",
    "import rpy2.robjects.numpy2ri\n",
    "rpy2.robjects.numpy2ri.activate()\n",
    "clusterR = importr('conclust')\n",
    "\n",
    "## Kmeans model\n",
    "from sklearn.cluster import KMeans\n",
    "\n",
    "## Metrics Learning\n",
    "from metric_learn import MMC, ITML\n",
    "\n",
    "## HMRF\n",
    "from models.hmrf import hmrf_kmeans_cosine\n",
    "\n",
    "## Cosine bayesian optimization\n",
    "from models.cosine_bayes_opt import cosine_bayes_clustering\n",
    "\n",
    "## SSGCA\n",
    "from KernelConstrainedKmeans.initialization import farthestInitialization\n",
    "from SemiSupervisedGraphClustering.sskkmeans import ssKmeans\n",
    "\n",
    "## Cross validation\n",
    "from models.cross_validation import crossValidation\n",
    "\n",
    "## Our model\n",
    "from models.kernel_bayes_opt import kernel_bayes_clustering"
   ]
  },
  {
   "cell_type": "code",
   "execution_count": null,
   "metadata": {},
   "outputs": [],
   "source": [
    "# Evaluation methods\n",
    "from metrics import evalSplit"
   ]
  },
  {
   "cell_type": "code",
   "execution_count": null,
   "metadata": {},
   "outputs": [],
   "source": [
    "# For reproductibility\n",
    "import numpy as np\n",
    "np.random.seed(0)"
   ]
  },
  {
   "cell_type": "code",
   "execution_count": null,
   "metadata": {},
   "outputs": [],
   "source": [
    "# Save\n",
    "import pickle\n",
    "import os"
   ]
  },
  {
   "cell_type": "code",
   "execution_count": null,
   "metadata": {},
   "outputs": [],
   "source": [
    "# Creates folder for save\n",
    "os.mkdir(os.path.join(config.result, config.time))"
   ]
  },
  {
   "cell_type": "code",
   "execution_count": null,
   "metadata": {},
   "outputs": [],
   "source": [
    "## Force recomputation kernels and configuration\n",
    "force = False"
   ]
  },
  {
   "cell_type": "markdown",
   "metadata": {},
   "source": [
    "# Configuration Computation"
   ]
  },
  {
   "cell_type": "markdown",
   "metadata": {},
   "source": [
    "In order to compute separetly any method, we save the configuration that we want to apply for all methods"
   ]
  },
  {
   "cell_type": "code",
   "execution_count": null,
   "metadata": {},
   "outputs": [],
   "source": [
    "if force:\n",
    "    for dname in sorted(classification_dataset_names):\n",
    "        createFold(dname, verbose = 2)"
   ]
  },
  {
   "cell_type": "markdown",
   "metadata": {},
   "source": [
    "# Models computation"
   ]
  },
  {
   "cell_type": "markdown",
   "metadata": {},
   "source": [
    "Second we define a function which opens the data, computes the constraints and then computes the different algorithms and saves the results.  "
   ]
  },
  {
   "cell_type": "code",
   "execution_count": null,
   "metadata": {},
   "outputs": [],
   "source": [
    "testMode = False\n",
    "\n",
    "# Kernels\n",
    "## Kernel to compute\n",
    "kernels_name = ['rbf', 'sigmoid', 'polynomial', \n",
    "                'laplacian', 'linear']\n",
    "\n",
    "## Kernels options -- Refer to kernels/features.py\n",
    "### Used only with Bayesian Optimization method\n",
    "kernel_args = {\"normalize\": \"expectation\", \n",
    "               \"check_method\": \"trivial\", \n",
    "               \"clip\": True}"
   ]
  },
  {
   "cell_type": "code",
   "execution_count": null,
   "metadata": {},
   "outputs": [],
   "source": [
    "def compute(dname, algorithm, percentageConstraint = (True, 100), verbose = 0, n_jobs = 1):\n",
    "    \"\"\"\n",
    "        Computes the given algorithm(s) and\n",
    "        Saves the performances on the dataset dname\n",
    "        \n",
    "        percentageConstraint for the constraint matrix (between 0 and 100)\n",
    "    \"\"\"\n",
    "    # Read configuration\n",
    "    configuration = readFold(dname)\n",
    "    if configuration is None:\n",
    "        print_verbose(\"No configuration found for {}\".format(dname), verbose)\n",
    "        return None\n",
    "    \n",
    "    # Read data and put them in good format for sklearn\n",
    "    data, labelvector = fetch_data(dname, return_X_y = True, local_cache_dir = config.datadir)\n",
    "    data = data.astype('float64')\n",
    "    classes = configuration[\"N_Classes\"]\n",
    "    \n",
    "    # Computes the kernels for the given data\n",
    "    print_verbose(\"Computation Kernels\", verbose)\n",
    "    names, kernels = produce_kernels(dname, kernels_name, data, force = force, verbose = verbose, n_jobs = n_jobs)\n",
    "    \n",
    "    print_verbose(\"Normalization Kernels\", verbose)\n",
    "    names, kernels = normalize_and_check_kernels(names, kernels, classes, verbose = verbose, n_jobs = n_jobs, **kernel_args)\n",
    "    \n",
    "    # Affinity for SSGCA\n",
    "    eucldist = euclidean_distances(data, data, squared = True)\n",
    "    affinity = rbf_kernel(data, gamma = 1./(np.median(eucldist)))\n",
    "    \n",
    "    ## If no kernel => Change computation \n",
    "    if len(kernels) == 0:\n",
    "        print_verbose(\"Kernels Default\", verbose)\n",
    "        return None\n",
    "    \n",
    "    \n",
    "    # Ground truth constraint matrix\n",
    "    constraintGT = 2 * np.equal.outer(labelvector, labelvector) - 1\n",
    "    np.fill_diagonal(constraintGT, 0)\n",
    "    \n",
    "    \n",
    "    # Iteration for confidence\n",
    "    scoreIt, assignationIt, constraintIt = {}, {}, {}\n",
    "    for fold in configuration[\"Train\"]:\n",
    "        print_verbose(\"Iteration {} / {}\".format(fold + 1, len(configuration[\"Train\"])), verbose)\n",
    "\n",
    "        # Read precomputed indices for train and constraint\n",
    "        train, constraint_indices = configuration[\"Train\"][fold], configuration[\"Constraint\"][fold]\n",
    "        \n",
    "        \n",
    "        # Compute constraints matrix\n",
    "        ## Number constraint\n",
    "        per, number_constraint = percentageConstraint\n",
    "        if per:\n",
    "            number_constraint = int((number_constraint*(len(train)-1)*len(train)/2.)/100.)\n",
    "        elif number_constraint > len(labelvector):\n",
    "            print_verbose(\"Too many constraint for the dataset\", verbose)\n",
    "            return None\n",
    "\n",
    "        ## Subselect the constraint matrix\n",
    "        constraint = get_subselection(constraintGT, constraint_indices[:number_constraint])\n",
    "\n",
    "        ## Completion Constraint Matrix\n",
    "        if percentageConstraint != (True, 100):\n",
    "            print_verbose(\"Completion Constraint\", verbose)\n",
    "            constraint = completion_constraint(constraint)\n",
    "            \n",
    "        ## Stop if no constraint\n",
    "        if np.mean(np.abs(constraint)) == 0:\n",
    "            print_verbose(\"No constraint\", verbose)\n",
    "            continue\n",
    "            \n",
    "        ## R Format constraints and metric learning\n",
    "        must_link, cannot_link = np.argwhere(constraint > 0), np.argwhere(constraint < 0)\n",
    "        const_metric = must_link[:, 0], must_link[:, 1], cannot_link[:, 0], cannot_link[:, 1]\n",
    "        must_link, cannot_link = must_link + 1, cannot_link + 1 # +1 for R index\n",
    "\n",
    "        \n",
    "        # Computes model(s)\n",
    "        assignation, score = {}, {}\n",
    "        \n",
    "        try:\n",
    "            ## R Models\n",
    "            if \"ckmeans\" in algorithm:\n",
    "                print_verbose(\"ckmeans\", verbose)                                                   \n",
    "                assignation[\"ckmeans\"] = np.array(clusterR.ckmeans(data, classes, must_link, cannot_link))\n",
    "                score[\"ckmeans\"] = evalSplit(assignation[\"ckmeans\"], labelvector, train)\n",
    "\n",
    "            if \"lcvqe\" in algorithm:\n",
    "                print_verbose(\"lcvqe\", verbose)                                                  \n",
    "                assignation[\"lcvqe\"] = np.array(clusterR.lcvqe(data, classes, must_link, cannot_link))\n",
    "                score[\"lcvqe\"] = evalSplit(assignation[\"lcvqe\"], labelvector, train)\n",
    "\n",
    "            if \"mpckm\" in algorithm:\n",
    "                print_verbose(\"mpckm\", verbose)                                  \n",
    "                assignation[\"mpckm\"] = np.array(clusterR.mpckm(data, classes, must_link, cannot_link))\n",
    "                score[\"mpckm\"] = evalSplit(assignation[\"mpckm\"], labelvector, train)\n",
    "\n",
    "            if \"kmeans\" in algorithm:\n",
    "                print_verbose(\"kmeans\", verbose)        \n",
    "                assignation[\"kmeans\"] = KMeans(classes, max_iter = 1).fit(data).labels_\n",
    "                score[\"kmeans\"] = evalSplit(assignation[\"kmeans\"], labelvector, train)\n",
    "                \n",
    "            \n",
    "            ## HMRF\n",
    "            if \"hmrf\" in algorithm:\n",
    "                print_verbose(\"hmrf\", verbose)                                                  \n",
    "                assignation[\"hmrf\"] = hmrf_kmeans_cosine(data, classes, constraint)\n",
    "                score[\"hmrf\"] = evalSplit(assignation[\"hmrf\"], labelvector, train)\n",
    "            \n",
    "            \n",
    "            ## Cosine Learning\n",
    "            if \"Bayesian cosine\" in algorithm:\n",
    "                print_verbose(\"Bayesian cosine\", verbose)                                                  \n",
    "                assignation[\"Bayesian cosine\"] = cosine_bayes_clustering(data, classes, constraint, verbose = verbose)\n",
    "                score[\"Bayesian cosine\"] = evalSplit(assignation[\"Bayesian cosine\"], labelvector, train)\n",
    "                \n",
    "                \n",
    "            ## Distance Learning and KCKmeans\n",
    "            if \"mmc\" in algorithm:\n",
    "                print_verbose(\"mmc\", verbose)\n",
    "                transformed = MMC().fit_transform(data, const_metric)\n",
    "                assignation[\"mmc\"] = np.array(clusterR.ckmeans(transformed, classes, must_link, cannot_link))\n",
    "                score[\"mmc\"] = evalSplit(assignation[\"mmc\"], labelvector, train)\n",
    "            \n",
    "            if \"itml\" in algorithm:\n",
    "                print_verbose(\"itml\", verbose)\n",
    "                transformed = ITML().fit_transform(data, const_metric)\n",
    "                assignation[\"itml\"] = np.array(clusterR.ckmeans(transformed, classes, must_link, cannot_link))\n",
    "                score[\"itml\"] = evalSplit(assignation[\"itml\"], labelvector, train)\n",
    "            \n",
    "            \n",
    "            ## SSGCA\n",
    "            if \"ssgca\" in algorithm:\n",
    "                print_verbose(\"ssgca\", verbose)\n",
    "                initialization = farthestInitialization(affinity, classes, constraint)\n",
    "                assignation[\"ssgca\"] = ssKmeans(affinity, initialization, \"ratio cut\", constraint)\n",
    "                score[\"ssgca\"] = evalSplit(assignation[\"ssgca\"], labelvector, train)\n",
    "            \n",
    "            \n",
    "            ## Simple cross validation\n",
    "            if \"Cross Validation\" in algorithm:\n",
    "                print_verbose(\"Cross Validation\", verbose)                                                                                   \n",
    "                assignation[\"Cross Validation\"], assignation[\"Cross Validation Kckmeans\"] = crossValidation(kernels, classes, constraint)\n",
    "                score[\"Cross Validation\"] = evalSplit(assignation[\"Cross Validation\"], labelvector, train)\n",
    "                score[\"Cross Validation Kckmeans\"] = evalSplit(assignation[\"Cross Validation Kckmeans\"], labelvector, train)  \n",
    "            \n",
    "            \n",
    "            ## Our method\n",
    "            if \"Bayesian Optimization\" in algorithm:\n",
    "                print_verbose(\"Bayesian Optimization\", verbose)                                                                                   \n",
    "                assignation[\"Bayesian Optimization\"], assignation[\"Bayesian Optimization Kckmeans\"] = kernel_bayes_clustering(kernels, classes, constraint, verbose = verbose)\n",
    "                score[\"Bayesian Optimization\"] = evalSplit(assignation[\"Bayesian Optimization\"], labelvector, train)\n",
    "                score[\"Bayesian Optimization Kckmeans\"] = evalSplit(assignation[\"Bayesian Optimization Kckmeans\"], labelvector, train)  \n",
    "\n",
    "\n",
    "            # Add results\n",
    "            constraintIt[fold] = np.mean(np.abs(constraint))\n",
    "            scoreIt[fold], assignationIt[fold] = score, assignation\n",
    "                    \n",
    "        except Exception as e:\n",
    "            print_verbose(\"No clustering respecting the constraints\", verbose)\n",
    "            continue\n",
    "\n",
    "    # Save results\n",
    "    info = {\"Name\": dname, \"Score\": scoreIt, \"Assignation\": assignationIt, \"Percentage Constraint\": constraintIt}\n",
    "    pickle.dump(info, open(os.path.join(config.result, config.time, dname + \"_{}.pickle\".format(percentageConstraint)), 'wb'))\n",
    "    \n",
    "    return info"
   ]
  },
  {
   "cell_type": "markdown",
   "metadata": {},
   "source": [
    "# Computation"
   ]
  },
  {
   "cell_type": "code",
   "execution_count": null,
   "metadata": {},
   "outputs": [],
   "source": [
    "algorithms = [\"Bayesian cosine\", \"ssgca\", \"Cross Validation\"]#\"itml\", \"ckmeans\", \"lcvqe\", \"mpckm\", \"hmrf\", \"kmeans\", \"mmc\", \"Bayesian Optimization\"]"
   ]
  },
  {
   "cell_type": "code",
   "execution_count": null,
   "metadata": {},
   "outputs": [],
   "source": [
    "# Run method\n",
    "if testMode:\n",
    "    for dname in classification_dataset_names:\n",
    "        compute(dname, algorithms, verbose = 2, n_jobs = config.processor)\n",
    "else:\n",
    "    from multiprocessing import Pool\n",
    "    with Pool(config.processor) as pool:\n",
    "        pool.starmap(compute, [(dname, algorithms) for dname in classification_dataset_names])"
   ]
  },
  {
   "cell_type": "markdown",
   "metadata": {},
   "source": [
    "------"
   ]
  },
  {
   "cell_type": "markdown",
   "metadata": {},
   "source": [
    "# Evolution "
   ]
  },
  {
   "cell_type": "markdown",
   "metadata": {},
   "source": [
    "How our model behave with less constraints ? We evaluate the performances of different model at different number of constraint"
   ]
  },
  {
   "cell_type": "code",
   "execution_count": null,
   "metadata": {},
   "outputs": [],
   "source": [
    "# Percentage of constraints to explore\n",
    "percentages = [0.1, 0.2, 0.3, 0.4, 0.5, 1, 2, 3, 4, 5, 10, 20, 30, 40, 50, 75, 100]\n",
    "\n",
    "# Selection dataset\n",
    "dname = np.random.choice(classification_dataset_names)"
   ]
  },
  {
   "cell_type": "code",
   "execution_count": null,
   "metadata": {},
   "outputs": [],
   "source": [
    "# Run method\n",
    "if testMode:\n",
    "    for percentage in percentages:\n",
    "        compute(dname, algorithms, percentageConstraint = (True, percentage), verbose = 2, n_jobs = config.processor)\n",
    "else:\n",
    "    from multiprocessing import Pool\n",
    "    with Pool(config.processor) as pool:\n",
    "        pool.starmap(compute, [(dname, algorithms, (True, percentage)) for percentage in percentages])"
   ]
  },
  {
   "cell_type": "code",
   "execution_count": null,
   "metadata": {},
   "outputs": [],
   "source": [
    "numbers = np.arange(0, 1000, 50)"
   ]
  },
  {
   "cell_type": "code",
   "execution_count": null,
   "metadata": {},
   "outputs": [],
   "source": [
    "# Run method\n",
    "if testMode:\n",
    "    for number in numbers:\n",
    "        compute(dname, algorithms, percentageConstraint = (False, number), verbose = 2, n_jobs = config.processor)\n",
    "else:\n",
    "    from multiprocessing import Pool\n",
    "    with Pool(config.processor) as pool:\n",
    "        pool.starmap(compute, [(dname, algorithms, (False, number)) for number in numbers])"
   ]
  },
  {
   "cell_type": "code",
   "execution_count": null,
   "metadata": {},
   "outputs": [],
   "source": []
  }
 ],
 "metadata": {
  "kernelspec": {
   "display_name": "Python 3",
   "language": "python",
   "name": "python3"
  },
  "language_info": {
   "codemirror_mode": {
    "name": "ipython",
    "version": 3
   },
   "file_extension": ".py",
   "mimetype": "text/x-python",
   "name": "python",
   "nbconvert_exporter": "python",
   "pygments_lexer": "ipython3"
  }
 },
 "nbformat": 4,
 "nbformat_minor": 2
}
