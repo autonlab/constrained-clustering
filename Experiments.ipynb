{
 "cells": [
  {
   "cell_type": "markdown",
   "metadata": {},
   "source": [
    "This notebook allows to compute different clustering algorithms on the pmlb datasets"
   ]
  },
  {
   "cell_type": "markdown",
   "metadata": {},
   "source": [
    "All path configuration and number of processor to use are in `config.py`"
   ]
  },
  {
   "cell_type": "code",
   "execution_count": null,
   "metadata": {},
   "outputs": [],
   "source": [
    "import config\n",
    "from utils import print_verbose"
   ]
  },
  {
   "cell_type": "markdown",
   "metadata": {},
   "source": [
    "# Import"
   ]
  },
  {
   "cell_type": "code",
   "execution_count": null,
   "metadata": {},
   "outputs": [],
   "source": [
    "## Datasets import\n",
    "from pmlb import classification_dataset_names, fetch_data"
   ]
  },
  {
   "cell_type": "code",
   "execution_count": null,
   "metadata": {},
   "outputs": [],
   "source": [
    "# Constraint methods\n",
    "from constraint import random_indices, get_subselection, completion_constraint"
   ]
  },
  {
   "cell_type": "code",
   "execution_count": null,
   "metadata": {},
   "outputs": [],
   "source": [
    "# Kernels methods\n",
    "from kernels.features import produce_kernels, normalize_and_check_kernels"
   ]
  },
  {
   "cell_type": "code",
   "execution_count": null,
   "metadata": {},
   "outputs": [],
   "source": [
    "# Model imports\n",
    "## R Model of constrained clustering\n",
    "## Require to have R and have installed conclust library\n",
    "from rpy2.robjects.packages import importr\n",
    "import rpy2.robjects.numpy2ri\n",
    "rpy2.robjects.numpy2ri.activate()\n",
    "clusterR = importr('conclust')\n",
    "\n",
    "## Kmeans model\n",
    "from sklearn.cluster import KMeans\n",
    "\n",
    "## Our model\n",
    "from models.kernel_bayes_opt import kernel_bayes_clustering"
   ]
  },
  {
   "cell_type": "code",
   "execution_count": null,
   "metadata": {},
   "outputs": [],
   "source": [
    "# Evaluation methods\n",
    "from metrics import evalSplit"
   ]
  },
  {
   "cell_type": "code",
   "execution_count": null,
   "metadata": {},
   "outputs": [],
   "source": [
    "# For reproductibility\n",
    "import numpy as np\n",
    "np.random.seed(0)"
   ]
  },
  {
   "cell_type": "code",
   "execution_count": null,
   "metadata": {},
   "outputs": [],
   "source": [
    "# Save\n",
    "import pickle"
   ]
  },
  {
   "cell_type": "markdown",
   "metadata": {},
   "source": [
    "# Models computation"
   ]
  },
  {
   "cell_type": "markdown",
   "metadata": {},
   "source": [
    "Second we define a function which opens the data, computes the constraints and then computes the different algorithms and saves the results.  "
   ]
  },
  {
   "cell_type": "code",
   "execution_count": null,
   "metadata": {},
   "outputs": [],
   "source": [
    "testMode = False\n",
    "\n",
    "# Kernel to compute\n",
    "kernels_name = ['rbf', 'sigmoid', 'polynomial', \n",
    "                'laplacian', 'linear', 'cosine']\n",
    "\n",
    "# Force recomputation\n",
    "force = False\n",
    "\n",
    "# Max number points in dataset - for limiting memory consumption\n",
    "min_points, max_points = 100, 5000\n",
    "\n",
    "# Kernels options -- Refer to kernels/features.py\n",
    "kernel_args = {\"normalize\": \"multiplicative\", \n",
    "               \"check_method\": \"trivial\", \n",
    "               \"clip\": True}"
   ]
  },
  {
   "cell_type": "code",
   "execution_count": null,
   "metadata": {},
   "outputs": [],
   "source": [
    "def computeAndSavePerf(dname, percentageConstraint = 100, verbose = 0, n_jobs = 1):\n",
    "    \"\"\"\n",
    "        Computes the different algorithms and\n",
    "        Saves the performances on the dataset dname\n",
    "        \n",
    "        percentageConstraint for the constraint matrix (between 0 and 100)\n",
    "    \"\"\"\n",
    "    assert dname in classification_dataset_names, \"Unknown dataset\"\n",
    "    \n",
    "    # Read data and put them in good format for sklearn\n",
    "    data, labelvector = fetch_data(dname, return_X_y = True, local_cache_dir = config.datadir)\n",
    "    data = data.astype('float64')\n",
    "    \n",
    "    if len(labelvector) < min_points:\n",
    "        print_verbose('Dataset too small - {}'.format(len(labelvector)), verbose)\n",
    "        return {}\n",
    "    if len(labelvector) > max_points:\n",
    "        print_verbose('Dataset too big - {}'.format(len(labelvector)), verbose)\n",
    "        return {}\n",
    "    \n",
    "    # Split in train and test\n",
    "    ## Stratified split\n",
    "    train, test = [], []\n",
    "    labels, counts = np.unique(labelvector, return_counts = True)\n",
    "    classes = len(labels)\n",
    "    for label, count in zip(labels, counts):\n",
    "        lentrain = int(0.5 * count)\n",
    "        index_label = np.argwhere(labelvector == label).flatten()\n",
    "        train.extend(np.random.choice(index_label, size = lentrain, replace = False).tolist())\n",
    "        test.extend([i for i in index_label if i not in train])\n",
    "    \n",
    "    print_verbose('{} : {} points in {} classes'.format(dname, len(labelvector), len(labels)), verbose)\n",
    "    \n",
    "    \n",
    "    # Compute constraints matrix\n",
    "    ## Number constraint\n",
    "    number_constraint = int((percentageConstraint*(len(train)-1)*len(train)/2.)/100.)\n",
    "\n",
    "    ## Ground truth constraints\n",
    "    constraint = 2 * np.equal.outer(labelvector, labelvector) - 1\n",
    "    np.fill_diagonal(constraint, 0)\n",
    "\n",
    "    ## Indices computed only on train part\n",
    "    indices = random_indices(train, number_constraint)\n",
    "    constraint = get_subselection(constraint, indices)\n",
    "\n",
    "    ## Completion Constraint Matrix\n",
    "    if percentageConstraint < 100:\n",
    "        print_verbose(\"Completion Constraint\", verbose)\n",
    "        constraint = completion_constraint(constraint)\n",
    "    \n",
    "    ## R Format constraints\n",
    "    must_link, cannot_link = np.argwhere(constraint > 0), np.argwhere(constraint < 0)\n",
    "    must_link, cannot_link = must_link + 1, cannot_link + 1 # +1 for R index\n",
    "    \n",
    "    \n",
    "    # Computes the kernels for the given data\n",
    "    print_verbose(\"Computation Kernels\", verbose)\n",
    "    names, kernels = produce_kernels(dname, kernels_name, data, force = force, verbose = verbose, n_jobs = n_jobs)\n",
    "    \n",
    "    print_verbose(\"Normalization Kernels\", verbose)\n",
    "    names, kernels = normalize_and_check_kernels(names, kernels, classes, verbose = verbose, n_jobs = n_jobs, **kernel_args)\n",
    "    \n",
    "    ## If no kernel verify the defintion \n",
    "    if len(kernels) == 0:\n",
    "        print_verbose(\"Kernels Default\", verbose)\n",
    "        return None\n",
    "    \n",
    "    # Computes model\n",
    "    score, assignation = {}, {}\n",
    "    ## R Models\n",
    "    name = \"ckmeans\"\n",
    "    print_verbose(name, verbose)                                                                                                                                                           \n",
    "    assignation[name] = np.array(clusterR.ckmeans(data, classes, must_link, cannot_link))\n",
    "    score[name] = evalSplit(assignation[name], labelvector, train)\n",
    "\n",
    "    name = \"lcvqe\"\n",
    "    print_verbose(name, verbose)                                                                                                                                                           \n",
    "    assignation[name] = np.array(clusterR.lcvqe(data, classes, must_link, cannot_link))\n",
    "    score[name] = evalSplit(assignation[name], labelvector, train)\n",
    "\n",
    "    name = \"mpckm\"\n",
    "    print_verbose(name, verbose)                                                                                                                                                           \n",
    "    assignation[name] = np.array(clusterR.mpckm(data, classes, must_link, cannot_link))\n",
    "    score[name] = evalSplit(assignation[name], labelvector, train)\n",
    "    \n",
    "    ## Kmeans\n",
    "    name = \"kmeans\"\n",
    "    print_verbose(name, verbose)                                                                                                                                                           \n",
    "    assignation[name] = KMeans(classes).fit(data).labels_\n",
    "    score[name] = evalSplit(assignation[name], labelvector, train)\n",
    "    \n",
    "    ## Our method\n",
    "    name = \"Bayesian Optimization\"\n",
    "    print_verbose(name, verbose)                                                                                                                                                           \n",
    "    assignation[name] = kernel_bayes_clustering(kernels, classes, constraint, verbose = verbose)\n",
    "    score[name] = evalSplit(assignation[name], labelvector, train)\n",
    "    \n",
    "    \n",
    "    # Save results\n",
    "    info = {\"Name\": dname, \"N_Classes\": classes, \"Constraint\": constraint, \n",
    "            \"Labels\": labelvector, \"Train\": train,  \"Score\": score, \"Assignation\": assignation}\n",
    "    pickle.dump(info, open(os.path.join(config.result, config.time, dname + \"_results.pickle\"), 'wb'))\n",
    "    \n",
    "    return score"
   ]
  },
  {
   "cell_type": "markdown",
   "metadata": {},
   "source": [
    "# Execution"
   ]
  },
  {
   "cell_type": "code",
   "execution_count": null,
   "metadata": {},
   "outputs": [],
   "source": [
    "# Creates a folder for save results\n",
    "import os\n",
    "os.mkdir(os.path.join(config.result, config.time))"
   ]
  },
  {
   "cell_type": "code",
   "execution_count": null,
   "metadata": {},
   "outputs": [],
   "source": [
    "if testMode:\n",
    "    for dname in classification_dataset_names:\n",
    "        computeAndSavePerf(dname, verbose = 2, n_jobs = config.processor)\n",
    "else:\n",
    "    from multiprocessing import Pool\n",
    "    with Pool(config.processor) as pool:\n",
    "        pool.starmap(computeAndSavePerf, [(dname, ) for dname in classification_dataset_names])"
   ]
  },
  {
   "cell_type": "code",
   "execution_count": null,
   "metadata": {},
   "outputs": [],
   "source": []
  }
 ],
 "metadata": {
  "kernelspec": {
   "display_name": "Python 3",
   "language": "python",
   "name": "python3"
  },
  "language_info": {
   "codemirror_mode": {
    "name": "ipython",
    "version": 3
   },
   "file_extension": ".py",
   "mimetype": "text/x-python",
   "name": "python",
   "nbconvert_exporter": "python",
   "pygments_lexer": "ipython3"
  }
 },
 "nbformat": 4,
 "nbformat_minor": 2
}
