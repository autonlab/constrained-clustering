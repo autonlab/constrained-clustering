{
 "cells": [
  {
   "cell_type": "markdown",
   "metadata": {},
   "source": [
    "This notebook allows to compute different clustering algorithms on the pmlb datasets"
   ]
  },
  {
   "cell_type": "markdown",
   "metadata": {},
   "source": [
    "All path configuration and number of processor to use are in `config.py`"
   ]
  },
  {
   "cell_type": "code",
   "execution_count": null,
   "metadata": {},
   "outputs": [],
   "source": [
    "import config\n",
    "from utils import print_verbose"
   ]
  },
  {
   "cell_type": "markdown",
   "metadata": {},
   "source": [
    "# Import"
   ]
  },
  {
   "cell_type": "code",
   "execution_count": null,
   "metadata": {},
   "outputs": [],
   "source": [
    "# Configuration computation\n",
    "from fold import createFold, readFold"
   ]
  },
  {
   "cell_type": "code",
   "execution_count": null,
   "metadata": {},
   "outputs": [],
   "source": [
    "# Datasets import\n",
    "from pmlb import classification_dataset_names, fetch_data"
   ]
  },
  {
   "cell_type": "code",
   "execution_count": null,
   "metadata": {},
   "outputs": [],
   "source": [
    "# Constraint methods\n",
    "from constraint import random_indices, get_subselection, completion_constraint"
   ]
  },
  {
   "cell_type": "code",
   "execution_count": null,
   "metadata": {},
   "outputs": [],
   "source": [
    "# Kernels methods\n",
    "from kernels.features import produce_kernels, normalize_and_check_kernels"
   ]
  },
  {
   "cell_type": "code",
   "execution_count": null,
   "metadata": {},
   "outputs": [],
   "source": [
    "# Model imports\n",
    "## R Model of constrained clustering\n",
    "## Require to have R and have installed conclust library\n",
    "from rpy2.robjects.packages import importr\n",
    "import rpy2.robjects.numpy2ri\n",
    "rpy2.robjects.numpy2ri.activate()\n",
    "clusterR = importr('conclust')\n",
    "\n",
    "## Kmeans model\n",
    "from sklearn.cluster import KMeans\n",
    "\n",
    "## Our model\n",
    "from models.kernel_bayes_opt import kernel_bayes_clustering"
   ]
  },
  {
   "cell_type": "code",
   "execution_count": null,
   "metadata": {},
   "outputs": [],
   "source": [
    "# Evaluation methods\n",
    "from metrics import evalSplit"
   ]
  },
  {
   "cell_type": "code",
   "execution_count": null,
   "metadata": {},
   "outputs": [],
   "source": [
    "# For reproductibility\n",
    "import numpy as np\n",
    "np.random.seed(0)"
   ]
  },
  {
   "cell_type": "code",
   "execution_count": null,
   "metadata": {},
   "outputs": [],
   "source": [
    "# Save\n",
    "import pickle\n",
    "import os"
   ]
  },
  {
   "cell_type": "code",
   "execution_count": null,
   "metadata": {},
   "outputs": [],
   "source": [
    "# Creates folder for save\n",
    "os.mkdir(os.path.join(config.result, config.time))"
   ]
  },
  {
   "cell_type": "markdown",
   "metadata": {},
   "source": [
    "# Configuration Computation"
   ]
  },
  {
   "cell_type": "markdown",
   "metadata": {},
   "source": [
    "In order to compute separetly any method, we save the configuration that we want to apply for all methods"
   ]
  },
  {
   "cell_type": "code",
   "execution_count": null,
   "metadata": {},
   "outputs": [],
   "source": [
    "for dname in sorted(classification_dataset_names):\n",
    "    createFold(dname, verbose = 2)"
   ]
  },
  {
   "cell_type": "markdown",
   "metadata": {},
   "source": [
    "# Models computation"
   ]
  },
  {
   "cell_type": "markdown",
   "metadata": {},
   "source": [
    "Second we define a function which opens the data, computes the constraints and then computes the different algorithms and saves the results.  "
   ]
  },
  {
   "cell_type": "code",
   "execution_count": null,
   "metadata": {},
   "outputs": [],
   "source": [
    "testMode = False\n",
    "\n",
    "# Kernels\n",
    "## Kernel to compute\n",
    "kernels_name = ['rbf', 'sigmoid', 'polynomial', \n",
    "                'laplacian', 'linear']\n",
    "\n",
    "## Force recomputation kernels\n",
    "force = False\n",
    "\n",
    "## Kernels options -- Refer to kernels/features.py\n",
    "### Used only with Bayesian Optimization method\n",
    "kernel_args = {\"normalize\": \"expectation\", \n",
    "               \"check_method\": \"trivial\", \n",
    "               \"clip\": True}"
   ]
  },
  {
   "cell_type": "code",
   "execution_count": null,
   "metadata": {},
   "outputs": [],
   "source": [
    "def compute(dname, algorithm, percentageConstraint = 100, verbose = 0, n_jobs = 1):\n",
    "    \"\"\"\n",
    "        Computes the given algorithm(s) and\n",
    "        Saves the performances on the dataset dname\n",
    "        \n",
    "        percentageConstraint for the constraint matrix (between 0 and 100)\n",
    "    \"\"\"\n",
    "    # Read configuration\n",
    "    configuration = readFold(dname)\n",
    "    if configuration is None:\n",
    "        print_verbose(\"No configuration found for {}\".format(dname), verbose)\n",
    "        return None\n",
    "    \n",
    "    # Read data and put them in good format for sklearn\n",
    "    data, labelvector = fetch_data(dname, return_X_y = True, local_cache_dir = config.datadir)\n",
    "    data = data.astype('float64')\n",
    "    classes = configuration[\"N_Classes\"]\n",
    "    \n",
    "    # Computes the kernels for the given data\n",
    "    print_verbose(\"Computation Kernels\", verbose)\n",
    "    names, kernels = produce_kernels(dname, kernels_name, data, force = force, verbose = verbose, n_jobs = n_jobs)\n",
    "    \n",
    "    print_verbose(\"Normalization Kernels\", verbose)\n",
    "    names, kernels = normalize_and_check_kernels(names, kernels, classes, verbose = verbose, n_jobs = n_jobs, **kernel_args)\n",
    "    \n",
    "    ## If no kernel => Change computation \n",
    "    if len(kernels) == 0:\n",
    "        print_verbose(\"Kernels Default\", verbose)\n",
    "        return None\n",
    "    \n",
    "    \n",
    "    # Ground truth constraint matrix\n",
    "    constraintGT = 2 * np.equal.outer(labelvector, labelvector) - 1\n",
    "    np.fill_diagonal(constraintGT, 0)\n",
    "    \n",
    "    \n",
    "    # Iteration for confidence\n",
    "    scoreIt, assignationIt, constraintIt = {}, {}, {}\n",
    "    for fold in configuration[\"Train\"]:\n",
    "        print_verbose(\"Iteration {} / {}\".format(fold + 1, len(configuration[\"Train\"])), verbose)\n",
    "\n",
    "        # Read precomputed indices for train and constraint\n",
    "        train, constraint_indices = configuration[\"Train\"][fold], configuration[\"Constraint\"][fold]\n",
    "        \n",
    "        \n",
    "        # Compute constraints matrix\n",
    "        ## Number constraint\n",
    "        number_constraint = int((percentageConstraint*(len(train)-1)*len(train)/2.)/100.)\n",
    "\n",
    "        ## Subselect the constraint matrix\n",
    "        constraint = get_subselection(constraintGT, constraint_indices[:number_constraint])\n",
    "\n",
    "        ## Completion Constraint Matrix\n",
    "        if percentageConstraint < 100:\n",
    "            print_verbose(\"Completion Constraint\", verbose)\n",
    "            constraint = completion_constraint(constraint)\n",
    "        \n",
    "        ## Stop if no constraint\n",
    "        if np.mean(np.abs(constraint)) == 0:\n",
    "            print_verbose(\"No constraint\", verbose)\n",
    "            continue\n",
    "            \n",
    "        ## R Format constraints\n",
    "        must_link, cannot_link = np.argwhere(constraint > 0), np.argwhere(constraint < 0)\n",
    "        must_link, cannot_link = must_link + 1, cannot_link + 1 # +1 for R index\n",
    "\n",
    "\n",
    "        # Computes model(s)\n",
    "        assignation, score = {}, {}\n",
    "        \n",
    "        try:\n",
    "            ## R Models\n",
    "            if \"ckmeans\" in algorithm:\n",
    "                print_verbose(\"ckmeans\", verbose)                                                   \n",
    "                assignation[\"ckmeans\"] = np.array(clusterR.ckmeans(data, classes, must_link, cannot_link))\n",
    "                score[\"ckmeans\"] = evalSplit(assignation[\"ckmeans\"], labelvector, train)\n",
    "\n",
    "            if \"lcvqe\" in algorithm:\n",
    "                print_verbose(\"lcvqe\", verbose)                                                  \n",
    "                assignation[\"lcvqe\"] = np.array(clusterR.lcvqe(data, classes, must_link, cannot_link))\n",
    "                score[\"lcvqe\"] = evalSplit(assignation[\"lcvqe\"], labelvector, train)\n",
    "\n",
    "            if \"mpckm\" in algorithm:\n",
    "                print_verbose(\"mpckm\", verbose)                                  \n",
    "                assignation[\"mpckm\"] = np.array(clusterR.mpckm(data, classes, must_link, cannot_link))\n",
    "                score[\"mpckm\"] = evalSplit(assignation[\"mpckm\"], labelvector, train)\n",
    "\n",
    "            if \"kmeans\" in algorithm:\n",
    "                print_verbose(\"kmeans\", verbose)        \n",
    "                assignation[\"kmeans\"] = KMeans(classes).fit(data).labels_\n",
    "                score[\"kmeans\"] = evalSplit(assignation[\"kmeans\"], labelvector, train)\n",
    "\n",
    "            ## Our method\n",
    "            if \"Bayesian Optimization\" in algorithm:\n",
    "                print_verbose(\"Bayesian Optimization\", verbose)                                                                                   \n",
    "                assignation[\"Bayesian Optimization\"], assignation[\"Bayesian Optimization Kckmeans\"] = kernel_bayes_clustering(kernels, classes, constraint, verbose = verbose)\n",
    "                score[\"Bayesian Optimization\"] = evalSplit(assignation[\"Bayesian Optimization\"], labelvector, train)\n",
    "                score[\"Bayesian Optimization Kckmeans\"] = evalSplit(assignation[\"Bayesian Optimization Kckmeans\"], labelvector, train)  \n",
    "\n",
    "\n",
    "            # Add results\n",
    "            constraintIt[fold] = np.mean(np.abs(constraint))\n",
    "            scoreIt[fold], assignationIt[fold] = score, assignation\n",
    "                    \n",
    "        except:\n",
    "            print_verbose(\"No clustering respecting the constraints\", verbose)\n",
    "            continue\n",
    "\n",
    "    # Save results\n",
    "    info = {\"Name\": dname, \"Score\": scoreIt, \"Assignation\": assignationIt, \"Percentage Constraint\": constraintIt}\n",
    "    pickle.dump(info, open(os.path.join(config.result, config.time, dname + \"_{}.pickle\".format(percentageConstraint)), 'wb'))\n",
    "    \n",
    "    return info"
   ]
  },
  {
   "cell_type": "markdown",
   "metadata": {},
   "source": [
    "# Computation"
   ]
  },
  {
   "cell_type": "code",
   "execution_count": null,
   "metadata": {},
   "outputs": [],
   "source": [
    "algorithms = [\"ckmeans\", \"kmeans\", \"lcvqe\", \"mpckm\", \"Bayesian Optimization\"]"
   ]
  },
  {
   "cell_type": "code",
   "execution_count": null,
   "metadata": {},
   "outputs": [],
   "source": [
    "# Run method\n",
    "if testMode:\n",
    "    for dname in classification_dataset_names:\n",
    "        compute(dname, algorithms, verbose = 2, n_jobs = config.processor)\n",
    "else:\n",
    "    from multiprocessing import Pool\n",
    "    with Pool(config.processor) as pool:\n",
    "        pool.starmap(compute, [(dname, algorithms) for dname in classification_dataset_names])"
   ]
  },
  {
   "cell_type": "markdown",
   "metadata": {},
   "source": [
    "------"
   ]
  },
  {
   "cell_type": "markdown",
   "metadata": {},
   "source": [
    "# Evolution "
   ]
  },
  {
   "cell_type": "markdown",
   "metadata": {},
   "source": [
    "How our model behave with less constraints ? We evaluate the performances of different model at different number of constraint"
   ]
  },
  {
   "cell_type": "code",
   "execution_count": null,
   "metadata": {},
   "outputs": [],
   "source": [
    "# Percentage of constraints to explore\n",
    "percentages = [0.1, 0.5, 1, 2, 3, 4, 5, 10, 20, 30, 40, 50, 75, 100]\n",
    "\n",
    "# Selection dataset\n",
    "dname = np.random.choice(classification_dataset_names)"
   ]
  },
  {
   "cell_type": "code",
   "execution_count": null,
   "metadata": {},
   "outputs": [],
   "source": [
    "# Run method\n",
    "if testMode:\n",
    "    for percentage in percentages:\n",
    "        compute(dname, algorithms, percentageConstraint = percentage, verbose = 2, n_jobs = config.processor)\n",
    "else:\n",
    "    from multiprocessing import Pool\n",
    "    with Pool(config.processor) as pool:\n",
    "        pool.starmap(compute, [(dname, algorithms, percentage) for percentage in percentages])"
   ]
  },
  {
   "cell_type": "code",
   "execution_count": null,
   "metadata": {},
   "outputs": [],
   "source": []
  }
 ],
 "metadata": {
  "kernelspec": {
   "display_name": "Python 3",
   "language": "python",
   "name": "python3"
  },
  "language_info": {
   "codemirror_mode": {
    "name": "ipython",
    "version": 3
   },
   "file_extension": ".py",
   "mimetype": "text/x-python",
   "name": "python",
   "nbconvert_exporter": "python",
   "pygments_lexer": "ipython3"
  }
 },
 "nbformat": 4,
 "nbformat_minor": 2
}
