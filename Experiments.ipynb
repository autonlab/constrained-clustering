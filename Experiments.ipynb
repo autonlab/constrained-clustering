{
 "cells": [
  {
   "cell_type": "markdown",
   "metadata": {},
   "source": [
    "This notebook allows to compute different clustering algorithms on the pmlb datasets"
   ]
  },
  {
   "cell_type": "markdown",
   "metadata": {},
   "source": [
    "All path configuration and number of processor to use are in `config.py`"
   ]
  },
  {
   "cell_type": "code",
   "execution_count": null,
   "metadata": {},
   "outputs": [],
   "source": [
    "import config\n",
    "from utils import print_verbose"
   ]
  },
  {
   "cell_type": "markdown",
   "metadata": {},
   "source": [
    "# Import"
   ]
  },
  {
   "cell_type": "code",
   "execution_count": null,
   "metadata": {},
   "outputs": [],
   "source": [
    "# Configuration computation\n",
    "from fold import createFold, readFold, computedFold"
   ]
  },
  {
   "cell_type": "code",
   "execution_count": null,
   "metadata": {},
   "outputs": [],
   "source": [
    "# Datasets import\n",
    "from pmlb import classification_dataset_names, fetch_data"
   ]
  },
  {
   "cell_type": "code",
   "execution_count": null,
   "metadata": {},
   "outputs": [],
   "source": [
    "# Constraint methods\n",
    "from scipy.sparse import find\n",
    "from constraint import random_indices, generate_constraint, completion_constraint"
   ]
  },
  {
   "cell_type": "code",
   "execution_count": null,
   "metadata": {},
   "outputs": [],
   "source": [
    "# Normalization\n",
    "from sklearn.preprocessing import StandardScaler"
   ]
  },
  {
   "cell_type": "code",
   "execution_count": null,
   "metadata": {},
   "outputs": [],
   "source": [
    "# Kernels methods\n",
    "from kernels.features import produce_kernels, normalize_and_check_kernels\n",
    "from sklearn.metrics.pairwise import rbf_kernel\n",
    "from sklearn.metrics.pairwise import euclidean_distances"
   ]
  },
  {
   "cell_type": "code",
   "execution_count": null,
   "metadata": {},
   "outputs": [],
   "source": [
    "# Model imports\n",
    "## R Model of constrained clustering\n",
    "## Require to have R and have installed conclust library\n",
    "from rpy2.robjects.packages import importr\n",
    "import rpy2.robjects.numpy2ri\n",
    "rpy2.robjects.numpy2ri.activate()\n",
    "clusterR = importr('conclust')\n",
    "\n",
    "## Kmeans model\n",
    "from sklearn.cluster import KMeans\n",
    "\n",
    "## Metrics Learning\n",
    "from metric_learn import MMC, ITML\n",
    "\n",
    "## HMRF\n",
    "from models.hmrf import hmrf_kmeans\n",
    "\n",
    "## Cosine bayesian optimization\n",
    "from models.cosine_bayes_opt import cosine_bayes_clustering\n",
    "\n",
    "## Mahalanobius bayesian optimization\n",
    "from models.mahalanobis import mahalanobis_bayes_clustering, mahalanobis_tpe_clustering\n",
    "\n",
    "## SSGCA\n",
    "from SemiSupervisedGraphClustering.sskkmeans import holdOutSskmeans\n",
    "\n",
    "## Cross validation\n",
    "from models.cross_validation import crossValidation\n",
    "\n",
    "## Our model\n",
    "from models.kernel_opt import kernel_clustering"
   ]
  },
  {
   "cell_type": "code",
   "execution_count": null,
   "metadata": {},
   "outputs": [],
   "source": [
    "# Evaluation methods\n",
    "from metrics import evalSplit"
   ]
  },
  {
   "cell_type": "code",
   "execution_count": null,
   "metadata": {},
   "outputs": [],
   "source": [
    "# For reproductibility\n",
    "import numpy as np\n",
    "np.random.seed(0)"
   ]
  },
  {
   "cell_type": "code",
   "execution_count": null,
   "metadata": {},
   "outputs": [],
   "source": [
    "# Save\n",
    "import pickle\n",
    "import os"
   ]
  },
  {
   "cell_type": "code",
   "execution_count": null,
   "metadata": {},
   "outputs": [],
   "source": [
    "# Creates folder for save\n",
    "os.mkdir(os.path.join(config.result, config.time))"
   ]
  },
  {
   "cell_type": "code",
   "execution_count": null,
   "metadata": {},
   "outputs": [],
   "source": [
    "## Force recomputation kernels and configuration\n",
    "force = False"
   ]
  },
  {
   "cell_type": "markdown",
   "metadata": {},
   "source": [
    "# Configuration Computation"
   ]
  },
  {
   "cell_type": "markdown",
   "metadata": {},
   "source": [
    "In order to compute separetly any method, we save the configuration that we want to apply for all methods"
   ]
  },
  {
   "cell_type": "code",
   "execution_count": null,
   "metadata": {},
   "outputs": [],
   "source": [
    "if force:\n",
    "    for dname in sorted(classification_dataset_names):\n",
    "        createFold(dname, verbose = 2)"
   ]
  },
  {
   "cell_type": "markdown",
   "metadata": {},
   "source": [
    "# Models computation"
   ]
  },
  {
   "cell_type": "markdown",
   "metadata": {},
   "source": [
    "Second we define a function which opens the data, computes the constraints and then computes the different algorithms and saves the results.  "
   ]
  },
  {
   "cell_type": "code",
   "execution_count": null,
   "metadata": {},
   "outputs": [],
   "source": [
    "testMode = False\n",
    "\n",
    "# Kernels\n",
    "## Kernel to compute\n",
    "kernels_name = ['rbf', 'sigmoid', 'polynomial', \n",
    "                'laplacian', 'linear']\n",
    "\n",
    "## Kernels options -- Refer to kernels/features.py\n",
    "### Used only with Bayesian Optimization method\n",
    "kernel_args = {\"normalize\": \"expectation\", \n",
    "               \"check_method\": \"trivial\", \n",
    "               \"clip\": True}"
   ]
  },
  {
   "cell_type": "code",
   "execution_count": null,
   "metadata": {},
   "outputs": [],
   "source": [
    "def compute(dname, algorithm, percentageConstraint = (True, 10), verbose = 0, n_jobs = 1, folder = None, normalize = True):\n",
    "    \"\"\"\n",
    "        Computes the given algorithm(s) and\n",
    "        Saves the performances on the dataset dname\n",
    "        \n",
    "        percentageConstraint for the constraint matrix (between 0 and 100)\n",
    "    \"\"\"\n",
    "    if folder is None:\n",
    "        folder = os.path.join(config.result, config.time)\n",
    "    save_file = os.path.join(folder, dname + \"_{}.pickle\".format(percentageConstraint))\n",
    "    \n",
    "    # Verify if the file has already been computed\n",
    "    if os.path.isfile(save_file):\n",
    "        print_verbose(\"File {} found\".format(save_file), verbose)\n",
    "        return pickle.load(open(save_file, 'rb'))\n",
    "    \n",
    "    # Read configuration\n",
    "    configuration = readFold(dname)\n",
    "    if configuration is None:\n",
    "        print_verbose(\"No configuration found for {}\".format(dname), verbose)\n",
    "        return None\n",
    "    \n",
    "    # Read data and put them in good format for sklearn\n",
    "    data, labelvector = fetch_data(dname, return_X_y = True, local_cache_dir = config.datadir)\n",
    "    data = data.astype('float64')\n",
    "    classes = configuration[\"N_Classes\"]\n",
    "    \n",
    "    if len(data) > 50000:\n",
    "        # Limit number of points to evaluate\n",
    "        return None\n",
    "    \n",
    "    print_verbose(\"{} - {} points divided in {} classes\".format(dname, len(data), classes), verbose)\n",
    "    \n",
    "    # Computes the kernels for the given data\n",
    "    if  \"Cross Validation\" == algorithm or \"CSC\" in algorithm:\n",
    "        print_verbose(\"Computation Kernels\", verbose)\n",
    "        names, kernels = produce_kernels(dname, kernels_name, data, force = force, verbose = verbose, n_jobs = n_jobs, \n",
    "                                         approximation = \"Approximation CSC\" == algorithm)\n",
    "\n",
    "        print_verbose(\"Normalization Kernels\", verbose)\n",
    "        args = {\"normalize\": \"approximation\"} if \"Approximation CSC\" == algorithm else kernel_args\n",
    "        names, kernels = normalize_and_check_kernels(names, kernels, classes, verbose = verbose, n_jobs = n_jobs, **args)\n",
    "    \n",
    "        ## If no kernel => Change computation \n",
    "        if len(kernels) == 0:\n",
    "            print_verbose(\"Kernels Default\", verbose)\n",
    "            return None\n",
    "        \n",
    "    # Normalization\n",
    "    if normalize:\n",
    "        print_verbose(\"Normalize\", verbose)\n",
    "        scaler = StandardScaler()\n",
    "        data = scaler.fit_transform(data)\n",
    "\n",
    "    # Affinity for SSGCA\n",
    "    if \"SSK-Kmeans\" == algorithm:\n",
    "        _, affinities = produce_kernels(dname, ['rbf'], data, verbose = verbose, n_jobs = n_jobs)\n",
    "\n",
    "    # Iteration for confidence\n",
    "    scoreIt, assignationIt, constraintIt = {}, {}, {}\n",
    "    for fold in configuration[\"Train\"]:\n",
    "        print_verbose(\"Iteration {} / {}\".format(fold + 1, len(configuration[\"Train\"])), verbose)\n",
    "\n",
    "        # Read precomputed indices for train and constraint\n",
    "        train, constraint_indices = configuration[\"Train\"][fold], configuration[\"Constraint\"][fold]\n",
    "        \n",
    "        # Compute constraints matrix\n",
    "        ## Number constraint\n",
    "        per, number_constraint = percentageConstraint\n",
    "        if per:\n",
    "            number_constraint = int((number_constraint*(len(train)-1)*len(train)/2.)/100.)\n",
    "        elif number_constraint > len(constraint_indices):\n",
    "            print_verbose(\"Too many constraint for the dataset\", verbose)\n",
    "            return None\n",
    "        \n",
    "        ## Enforce max number constraints\n",
    "        number_constraint = min(number_constraint, 1000)\n",
    "\n",
    "        ## Subselect the constraint matrix\n",
    "        constraint = generate_constraint(labelvector, constraint_indices[:number_constraint])\n",
    "    \n",
    "        ### Allows a subset to be evaluated\n",
    "        if \"SSK-Kmeans\" == algorithm:\n",
    "            hold = int(number_constraint * 0.9)\n",
    "            hold = generate_constraint(labelvector, constraint_indices[:hold])\n",
    "\n",
    "        ## Completion Constraint Matrix\n",
    "        print_verbose(\"Completion Constraint\", verbose)\n",
    "        if constraint.shape[0] < 5000:\n",
    "            constraint = completion_constraint(constraint)\n",
    "            if \"SSK-Kmeans\" == algorithm:\n",
    "                hold = completion_constraint(hold)\n",
    "\n",
    "        ## Stop if no constraint\n",
    "        if len(find(constraint)) == 0:\n",
    "            print_verbose(\"No constraint\", verbose)\n",
    "            continue\n",
    "            \n",
    "        ## R Format constraints and metric learning\n",
    "        must_link = [((i, j), (j, i)) for i, j, v in zip(*find(constraint)) if v > 0]\n",
    "        cannot_link = [((i, j), (j, i)) for i, j, v in zip(*find(constraint)) if v < 0]\n",
    "        must_link, cannot_link = np.vstack(must_link), np.vstack(cannot_link)\n",
    "        const_metric = must_link[:, 0], must_link[:, 1], cannot_link[:, 0], cannot_link[:, 1]\n",
    "        must_link, cannot_link = must_link + 1, cannot_link + 1 # +1 for R index\n",
    "\n",
    "        # Computes model(s)\n",
    "        assignation, score = {}, {}\n",
    "        \n",
    "        try:\n",
    "            print_verbose(algorithm, verbose)\n",
    "            ## R Models\n",
    "            if \"COP K-means\" == algorithm:\n",
    "                assignation[\"COP K-means\"] = np.array(clusterR.ckmeans(data, classes, must_link, cannot_link))\n",
    "                score[\"COP K-means\"] = evalSplit(assignation[\"COP K-means\"], labelvector, train)\n",
    "\n",
    "            if \"lcvqe\" == algorithm:\n",
    "                assignation[\"lcvqe\"] = np.array(clusterR.lcvqe(data, classes, must_link, cannot_link))\n",
    "                score[\"lcvqe\"] = evalSplit(assignation[\"lcvqe\"], labelvector, train)\n",
    "\n",
    "            if \"mpckm\" == algorithm:\n",
    "                assignation[\"mpckm\"] = np.array(clusterR.mpckm(data, classes, must_link, cannot_link))\n",
    "                score[\"mpckm\"] = evalSplit(assignation[\"mpckm\"], labelvector, train)\n",
    "\n",
    "            if \"kmeans\" == algorithm:\n",
    "                assignation[\"kmeans\"] = KMeans(classes).fit(data).labels_\n",
    "                score[\"kmeans\"] = evalSplit(assignation[\"kmeans\"], labelvector, train)\n",
    "                \n",
    "            \n",
    "            ## HMRF\n",
    "            if \"hmrf\" == algorithm:\n",
    "                assignation[\"hmrf\"] = hmrf_kmeans(data, classes, constraint)\n",
    "                score[\"hmrf\"] = evalSplit(assignation[\"hmrf\"], labelvector, train)\n",
    "            \n",
    "            \n",
    "            ## Cosine Learning\n",
    "            if \"Bayesian cosine\" == algorithm:\n",
    "                assignation[\"Bayesian cosine\"] = cosine_bayes_clustering(data, classes, constraint, verbose = verbose)\n",
    "                score[\"Bayesian cosine\"] = evalSplit(assignation[\"Bayesian cosine\"], labelvector, train)\n",
    "                \n",
    "            ## Mahalanobis \n",
    "            if \"Bayesian mahalanobis\" == algorithm:\n",
    "                assignation[\"Bayesian mahalanobis\"] = mahalanobis_bayes_clustering(data, classes, constraint, verbose = verbose)\n",
    "                score[\"Bayesian mahalanobis\"] = evalSplit(assignation[\"Bayesian mahalanobis\"], labelvector, train)\n",
    "\n",
    "            if \"TPE mahalanobis\" == algorithm:\n",
    "                assignation[\"TPE mahalanobis\"] = mahalanobis_tpe_clustering(data, classes, constraint, verbose = verbose)\n",
    "                score[\"TPE mahalanobis\"] = evalSplit(assignation[\"TPE mahalanobis\"], labelvector, train)\n",
    "                \n",
    "            ## Distance Learning and LCVQE\n",
    "            if \"mmc\" == algorithm:\n",
    "                transformed = MMC().fit_transform(data, const_metric)\n",
    "                assignation[\"mmc\"] = np.array(clusterR.lcvqe(transformed, classes, must_link, cannot_link))\n",
    "                score[\"mmc\"] = evalSplit(assignation[\"mmc\"], labelvector, train)\n",
    "            \n",
    "            if \"itml\" == algorithm:\n",
    "                transformed = ITML().fit_transform(data, const_metric)\n",
    "                assignation[\"itml\"] = np.array(clusterR.lcvqe(transformed, classes, must_link, cannot_link))\n",
    "                score[\"itml\"] = evalSplit(assignation[\"itml\"], labelvector, train)\n",
    "            \n",
    "            \n",
    "            ## SSKmeans\n",
    "            if \"SSK-Kmeans\" == algorithm:\n",
    "                assignation[\"SSK-Kmeans\"] = holdOutSskmeans(affinities, classes, \"ratio cut\", hold * len(data) / (classes * hold.count_nonzero()), evaluation = constraint * len(data) / (classes * constraint.count_nonzero()))\n",
    "                score[\"SSK-Kmeans\"] = evalSplit(assignation[\"SSK-Kmeans\"], labelvector, train)\n",
    "            \n",
    "            \n",
    "            ## Simple cross validation\n",
    "            if \"Cross Validation\" == algorithm:\n",
    "                assignation[\"Cross Validation\"], assignation[\"Cross Validation SoftKmeans\"] = crossValidation(kernels, classes, constraint)\n",
    "                score[\"Cross Validation\"] = evalSplit(assignation[\"Cross Validation\"], labelvector, train)\n",
    "                score[\"Cross Validation SoftKmeans\"] = evalSplit(assignation[\"Cross Validation SoftKmeans\"], labelvector, train)  \n",
    "               \n",
    "            if \"CSC\" in algorithm:\n",
    "                assignation[algorithm] = kernel_clustering(kernels, classes, constraint, verbose = verbose, kernel_approx = \"Approximation\" in algorithm, random_init=init, exploration=beta).scores\n",
    "                score[algorithm] = evalSplit(assignation[algorithm], labelvector, train)\n",
    "\n",
    "            # Add results\n",
    "            constraintIt[fold] = np.mean(np.abs(constraint))\n",
    "            scoreIt[fold], assignationIt[fold] = score, assignation\n",
    "                    \n",
    "        except Exception as e:\n",
    "            print_verbose(\"No clustering respecting the constraints\", verbose)\n",
    "            continue\n",
    "\n",
    "    # Save results\n",
    "    info = {\"Name\": dname, \"Score\": scoreIt, \"Assignation\": assignationIt, \"Percentage Constraint\": constraintIt}\n",
    "    pickle.dump(info, open(save_file, 'wb'))\n",
    "    \n",
    "    return info"
   ]
  },
  {
   "cell_type": "markdown",
   "metadata": {},
   "source": [
    "# Computation"
   ]
  },
  {
   "cell_type": "code",
   "execution_count": null,
   "metadata": {},
   "outputs": [],
   "source": [
    "algorithms = [\"COP K-means\", \"lcvqe\", \"mpckm\", \"kmeans\", \"hmrf\", \"SSK-Kmeans\", \"mmc\", \"itml\", \"CSC\", \"Approximation CSC\"]"
   ]
  },
  {
   "cell_type": "code",
   "execution_count": null,
   "metadata": {},
   "outputs": [],
   "source": [
    "for algo in algorithms:\n",
    "    folder = os.path.join(config.result, config.time, algo) # Run method\n",
    "    os.mkdir(folder)"
   ]
  },
  {
   "cell_type": "code",
   "execution_count": null,
   "metadata": {},
   "outputs": [],
   "source": [
    "if testMode:\n",
    "    for dname in computedFold():\n",
    "        for algo in algorithms:\n",
    "            compute(dname, algo, (True, 100), verbose = 2, n_jobs = config.processor, folder = os.path.join(config.result, config.time, algo))\n",
    "else:\n",
    "    from multiprocessing import Pool\n",
    "    with Pool(config.processor) as pool:\n",
    "        pool.starmap(compute, [(dname, algo, (True, 10), 0, 1, os.path.join(config.result, config.time, algo)) for algo in algorithms for dname in computedFold()[::-1]])"
   ]
  },
  {
   "cell_type": "markdown",
   "metadata": {},
   "source": [
    "------"
   ]
  },
  {
   "cell_type": "markdown",
   "metadata": {},
   "source": [
    "# Evolution "
   ]
  },
  {
   "cell_type": "markdown",
   "metadata": {},
   "source": [
    "How our model behave with less constraints ? We evaluate the performances of different model at different number of constraint"
   ]
  },
  {
   "cell_type": "code",
   "execution_count": null,
   "metadata": {},
   "outputs": [],
   "source": [
    "# Percentage of constraints to explore\n",
    "percentages = [0.1, 0.2, 0.3, 0.4, 0.5, 1, 2, 3, 4, 5, 10, 20, 30, 40, 50, 75, 100]"
   ]
  },
  {
   "cell_type": "code",
   "execution_count": null,
   "metadata": {},
   "outputs": [],
   "source": [
    "# Run method\n",
    "if testMode:\n",
    "    for dname in computedFold():\n",
    "        for algo in algorithms:\n",
    "            for percentage in percentages:\n",
    "                compute(dname, [algo], percentageConstraint = (True, percentage), verbose = 2, n_jobs = config.processor, folder = os.path.join(config.result, config.time, algo))\n",
    "else:\n",
    "    from multiprocessing import Pool\n",
    "    with Pool(config.processor) as pool:\n",
    "        pool.starmap(compute, [(dname, [algo], (True, percentage), os.path.join(config.result, config.time, algo)) for number in numbers for algo in algorithms for dname in computedFold()])"
   ]
  },
  {
   "cell_type": "code",
   "execution_count": null,
   "metadata": {},
   "outputs": [],
   "source": [
    "numbers = np.arange(50, 1000, 50)"
   ]
  },
  {
   "cell_type": "code",
   "execution_count": null,
   "metadata": {},
   "outputs": [],
   "source": [
    "# Run method\n",
    "if testMode:\n",
    "    for dname in computedFold():\n",
    "        for algo in algorithms:\n",
    "            for number in numbers:\n",
    "                compute(dname, [algo], percentageConstraint = (False, number), verbose = 2, n_jobs = config.processor, folder = os.path.join(config.result, config.time, algo))\n",
    "else:\n",
    "    from multiprocessing import Pool\n",
    "    with Pool(config.processor) as pool:\n",
    "        pool.starmap(compute, [(dname, [algo], (False, number), 0, 1, os.path.join(config.result, config.time, algo)) for number in numbers for algo in algorithms for dname in computedFold()])"
   ]
  },
  {
   "cell_type": "code",
   "execution_count": null,
   "metadata": {},
   "outputs": [],
   "source": []
  },
  {
   "cell_type": "code",
   "execution_count": null,
   "metadata": {},
   "outputs": [],
   "source": []
  }
 ],
 "metadata": {
  "kernelspec": {
   "display_name": "Python 3",
   "language": "python",
   "name": "python3"
  },
  "language_info": {
   "codemirror_mode": {
    "name": "ipython",
    "version": 3
   },
   "file_extension": ".py",
   "mimetype": "text/x-python",
   "name": "python",
   "nbconvert_exporter": "python",
   "pygments_lexer": "ipython3"
  }
 },
 "nbformat": 4,
 "nbformat_minor": 2
}
