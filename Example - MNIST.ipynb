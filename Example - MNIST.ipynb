{
 "cells": [
  {
   "cell_type": "markdown",
   "metadata": {},
   "source": [
    "This notebook presents a simple use of our algorithm on the MNIST dataset"
   ]
  },
  {
   "cell_type": "code",
   "execution_count": 1,
   "metadata": {},
   "outputs": [],
   "source": [
    "import numpy as np\n",
    "import pandas as pd\n",
    "import matplotlib.pyplot as plt"
   ]
  },
  {
   "cell_type": "code",
   "execution_count": 2,
   "metadata": {},
   "outputs": [],
   "source": [
    "# Fix seed for reproductibility\n",
    "np.random.seed(42)"
   ]
  },
  {
   "cell_type": "markdown",
   "metadata": {},
   "source": [
    "# Data Preparation"
   ]
  },
  {
   "cell_type": "markdown",
   "metadata": {},
   "source": [
    "Open the data from sklearn with the **associated labels**. \n",
    "\n",
    "Labels are not used for clustering but allow to easily create constraints and evaluate the performances of the model."
   ]
  },
  {
   "cell_type": "code",
   "execution_count": 3,
   "metadata": {},
   "outputs": [],
   "source": [
    "from sklearn.datasets import load_digits"
   ]
  },
  {
   "cell_type": "code",
   "execution_count": 4,
   "metadata": {},
   "outputs": [],
   "source": [
    "data, labels = load_digits(return_X_y = True)\n",
    "classes = len(np.unique(labels))"
   ]
  },
  {
   "cell_type": "code",
   "execution_count": 5,
   "metadata": {},
   "outputs": [
    {
     "name": "stdout",
     "output_type": "stream",
     "text": [
      "Dataset contains 1797 points in 10 classes\n"
     ]
    }
   ],
   "source": [
    "print(\"Dataset contains {} points in {} classes\".format(len(data), classes))"
   ]
  },
  {
   "cell_type": "markdown",
   "metadata": {},
   "source": [
    "# Create constraints"
   ]
  },
  {
   "cell_type": "markdown",
   "metadata": {},
   "source": [
    "From the extracted labels we can create pairwise **must link** and **cannot link constraints**.  \n",
    "For real case application, labels are unknown, constraints would be obtained from experts as +1 (must link) and -1 (cannot link) constraints."
   ]
  },
  {
   "cell_type": "code",
   "execution_count": 6,
   "metadata": {},
   "outputs": [],
   "source": [
    "from utils.constraint import random_indices, generate_constraint"
   ]
  },
  {
   "cell_type": "markdown",
   "metadata": {},
   "source": [
    "We create *500* random constraints only on the first **1000** points"
   ]
  },
  {
   "cell_type": "code",
   "execution_count": 7,
   "metadata": {},
   "outputs": [],
   "source": [
    "train = np.arange(1000)"
   ]
  },
  {
   "cell_type": "code",
   "execution_count": 8,
   "metadata": {},
   "outputs": [],
   "source": [
    "indices =  random_indices(train, 500)\n",
    "constraints = generate_constraint(labels, indices)"
   ]
  },
  {
   "cell_type": "markdown",
   "metadata": {},
   "source": [
    "# Apply algorithm"
   ]
  },
  {
   "cell_type": "code",
   "execution_count": 9,
   "metadata": {},
   "outputs": [
    {
     "name": "stdout",
     "output_type": "stream",
     "text": [
      "Ran on 11 September 2020 15:06:51\n",
      "Local\n"
     ]
    }
   ],
   "source": [
    "from sklearn.cluster import KMeans\n",
    "from utils.metrics import evalSplit\n",
    "from utils.clustering import Clustering\n",
    "from models.kernel_opt import kernel_clustering\n",
    "from kernels.features import produce_kernels, normalize_and_check_kernels"
   ]
  },
  {
   "cell_type": "code",
   "execution_count": 10,
   "metadata": {},
   "outputs": [],
   "source": [
    "performances = {} # Dictionary to store test performances for the different methods"
   ]
  },
  {
   "cell_type": "markdown",
   "metadata": {},
   "source": [
    "Our algorithm is available in two versions: with and without approximation of kernels. Approximation of kernels allows to reduce the memory usage and complexity when the data dimensionalityis too large"
   ]
  },
  {
   "cell_type": "markdown",
   "metadata": {},
   "source": [
    "### Without approximation"
   ]
  },
  {
   "cell_type": "code",
   "execution_count": 11,
   "metadata": {},
   "outputs": [],
   "source": [
    "# Define the different kernels we want to compute\n",
    "kernels_name = ['rbf', 'sigmoid', 'polynomial', \n",
    "                'laplacian', 'linear']\n",
    "\n",
    "# Define options on the kernels computation\n",
    "kernel_args = {\"normalize\": \"expectation\", \n",
    "               \"check_method\": \"trivial\", \n",
    "               \"clip\": True}\n",
    "\n",
    "# Compute and save kernels \n",
    "## As kernels computation is slow, the function saves it in a local folder\n",
    "names, kernels = produce_kernels('mnist', kernels_name, data, n_jobs = 8)\n",
    "names, kernels = normalize_and_check_kernels(names, kernels, classes, n_jobs = 8, **kernel_args)"
   ]
  },
  {
   "cell_type": "code",
   "execution_count": 22,
   "metadata": {},
   "outputs": [],
   "source": [
    "# Define the clustering algorithm to use\n",
    "clustering = Clustering.create(\"kmeans\", classes = classes, constraint_matrix = constraints)"
   ]
  },
  {
   "cell_type": "code",
   "execution_count": 23,
   "metadata": {},
   "outputs": [],
   "source": [
    "assignment = kernel_clustering(kernels, clustering, constraints)"
   ]
  },
  {
   "cell_type": "code",
   "execution_count": 24,
   "metadata": {},
   "outputs": [
    {
     "name": "stderr",
     "output_type": "stream",
     "text": [
      " /home/vincent/miniconda3/envs/clustering/lib/python3.7/site-packages/sklearn/metrics/cluster/supervised.py:732: FutureWarning:The behavior of AMI will change in version 0.22. To match the behavior of 'v_measure_score', AMI will use average_method='arithmetic' by default.\n",
      " /home/vincent/miniconda3/envs/clustering/lib/python3.7/site-packages/sklearn/metrics/cluster/supervised.py:844: FutureWarning:The behavior of NMI will change in version 0.22. To match the behavior of 'v_measure_score', NMI will use average_method='arithmetic' by default.\n"
     ]
    }
   ],
   "source": [
    "performances[\"Without Approx\"] = evalSplit(assignment, labels, train)['test']"
   ]
  },
  {
   "cell_type": "markdown",
   "metadata": {},
   "source": [
    "### With approximation"
   ]
  },
  {
   "cell_type": "code",
   "execution_count": 15,
   "metadata": {},
   "outputs": [],
   "source": [
    "kernel_args = {\"normalize\": \"approximation\"}\n",
    "\n",
    "# Compute the kernels approximation\n",
    "names, kernels = produce_kernels('mnist', kernels_name, data, n_jobs = 8, approximation = True)\n",
    "names, kernels = normalize_and_check_kernels(names, kernels, classes, n_jobs = 8, **kernel_args)"
   ]
  },
  {
   "cell_type": "code",
   "execution_count": 17,
   "metadata": {},
   "outputs": [],
   "source": [
    "assignment = kernel_clustering(kernels, clustering, constraints, kernel_approx = True)"
   ]
  },
  {
   "cell_type": "code",
   "execution_count": 18,
   "metadata": {},
   "outputs": [
    {
     "name": "stderr",
     "output_type": "stream",
     "text": [
      " /home/vincent/miniconda3/envs/clustering/lib/python3.7/site-packages/sklearn/metrics/cluster/supervised.py:732: FutureWarning:The behavior of AMI will change in version 0.22. To match the behavior of 'v_measure_score', AMI will use average_method='arithmetic' by default.\n",
      " /home/vincent/miniconda3/envs/clustering/lib/python3.7/site-packages/sklearn/metrics/cluster/supervised.py:844: FutureWarning:The behavior of NMI will change in version 0.22. To match the behavior of 'v_measure_score', NMI will use average_method='arithmetic' by default.\n"
     ]
    }
   ],
   "source": [
    "performances[\"With Approx\"] = evalSplit(assignment, labels, train)['test']"
   ]
  },
  {
   "cell_type": "markdown",
   "metadata": {},
   "source": [
    "## Kmeans"
   ]
  },
  {
   "cell_type": "markdown",
   "metadata": {},
   "source": [
    "For comparison, we compute a standard kmeans and evaluate it on the same test split"
   ]
  },
  {
   "cell_type": "code",
   "execution_count": 19,
   "metadata": {},
   "outputs": [],
   "source": [
    "assignment = KMeans(classes).fit_predict(data)"
   ]
  },
  {
   "cell_type": "code",
   "execution_count": 20,
   "metadata": {},
   "outputs": [
    {
     "name": "stderr",
     "output_type": "stream",
     "text": [
      " /home/vincent/miniconda3/envs/clustering/lib/python3.7/site-packages/sklearn/metrics/cluster/supervised.py:732: FutureWarning:The behavior of AMI will change in version 0.22. To match the behavior of 'v_measure_score', AMI will use average_method='arithmetic' by default.\n",
      " /home/vincent/miniconda3/envs/clustering/lib/python3.7/site-packages/sklearn/metrics/cluster/supervised.py:844: FutureWarning:The behavior of NMI will change in version 0.22. To match the behavior of 'v_measure_score', NMI will use average_method='arithmetic' by default.\n"
     ]
    }
   ],
   "source": [
    "performances[\"Kmeans\"] = evalSplit(assignment, labels, train)['test']"
   ]
  },
  {
   "cell_type": "markdown",
   "metadata": {},
   "source": [
    "Here is a simple comparison on the test set"
   ]
  },
  {
   "cell_type": "code",
   "execution_count": 25,
   "metadata": {},
   "outputs": [
    {
     "data": {
      "text/plain": [
       "<matplotlib.legend.Legend at 0x7f144ebc3210>"
      ]
     },
     "execution_count": 25,
     "metadata": {},
     "output_type": "execute_result"
    },
    {
     "data": {
      "image/png": "[encoded data removed]",
      "text/plain": [
       "<Figure size 432x288 with 1 Axes>"
      ]
     },
     "metadata": {
      "needs_background": "light"
     },
     "output_type": "display_data"
    }
   ],
   "source": [
    "pd.DataFrame(performances).plot.bar()\n",
    "plt.grid(alpha = 0.3)\n",
    "plt.xlabel('Metrics')\n",
    "plt.ylabel('Value')\n",
    "plt.legend(loc='center left', bbox_to_anchor=(1, 0.5))"
   ]
  },
  {
   "cell_type": "code",
   "execution_count": null,
   "metadata": {},
   "outputs": [],
   "source": []
  }
 ],
 "metadata": {
  "kernelspec": {
   "display_name": "Python 3",
   "language": "python",
   "name": "python3"
  },
  "language_info": {
   "codemirror_mode": {
    "name": "ipython",
    "version": 3
   },
   "file_extension": ".py",
   "mimetype": "text/x-python",
   "name": "python",
   "nbconvert_exporter": "python",
   "pygments_lexer": "ipython3",
   "version": "3.7.6"
  }
 },
 "nbformat": 4,
 "nbformat_minor": 4
}
